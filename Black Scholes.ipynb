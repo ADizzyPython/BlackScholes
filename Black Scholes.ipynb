{
 "cells": [
  {
   "cell_type": "code",
   "execution_count": 1,
   "id": "1834c6ce",
   "metadata": {},
   "outputs": [],
   "source": [
    "from scipy.stats import norm"
   ]
  },
  {
   "cell_type": "code",
   "execution_count": 2,
   "id": "00c20e4d",
   "metadata": {},
   "outputs": [],
   "source": [
    "import yfinance as yf, math, pandas as pd, numpy as np"
   ]
  },
  {
   "cell_type": "code",
   "execution_count": 3,
   "id": "81fe2e1e",
   "metadata": {},
   "outputs": [],
   "source": [
    "from datetime import datetime"
   ]
  },
  {
   "cell_type": "code",
   "execution_count": 4,
   "id": "c7d9166c",
   "metadata": {},
   "outputs": [],
   "source": [
    "def cdf(x):\n",
    "    return 0.5*(1+math.erf(x/math.sqrt(2)))\n",
    "            "
   ]
  },
  {
   "cell_type": "code",
   "execution_count": 5,
   "id": "17e7dcc1",
   "metadata": {},
   "outputs": [],
   "source": [
    "def d1(S,K, r, t, vol):\n",
    "    return (math.log(S/K)+(r + (vol**2)/2)*t)/(vol*math.sqrt(t))"
   ]
  },
  {
   "cell_type": "code",
   "execution_count": 6,
   "id": "2af128f3",
   "metadata": {},
   "outputs": [],
   "source": [
    "def d2(S, K, r, t, vol):\n",
    "    return d1(S, K, r, t, vol) - vol*math.sqrt(t)"
   ]
  },
  {
   "cell_type": "code",
   "execution_count": 7,
   "id": "196b2ffe",
   "metadata": {},
   "outputs": [],
   "source": [
    "def call(S, K, r, t, vol):\n",
    "    Nd1 = cdf(d1(S, K, r, t, vol))\n",
    "    Nd2= cdf(d2(S, K, r, t, vol))\n",
    "    return S*Nd1-K*math.exp(-r*t)*Nd2"
   ]
  },
  {
   "cell_type": "code",
   "execution_count": 8,
   "id": "50cd25e3",
   "metadata": {},
   "outputs": [],
   "source": [
    "def put(S, K, r, t, vol):\n",
    "    Nd1 = cdf(-d1(S, K, r, t, vol))\n",
    "    Nd2 = cdf(-d2(S, K, r, t, vol))\n",
    "    return K*math.exp(-r*t)*Nd2 - S*Nd1"
   ]
  },
  {
   "cell_type": "code",
   "execution_count": 9,
   "id": "09603c33",
   "metadata": {},
   "outputs": [],
   "source": [
    "def optiondata(symbol, date):\n",
    "    option=yf.Ticker(symbol)\n",
    "    options_data=option.option_chain(date)\n",
    "    return options_data.calls, options_data.puts"
   ]
  },
  {
   "cell_type": "code",
   "execution_count": 10,
   "id": "e1017857",
   "metadata": {},
   "outputs": [],
   "source": [
    "def getS(ticker_symbol):\n",
    "    stock = yf.Ticker(ticker_symbol)\n",
    "    return stock.history(period=\"1d\")['Close'].iloc[-1]"
   ]
  },
  {
   "cell_type": "code",
   "execution_count": 11,
   "id": "948b6d17",
   "metadata": {},
   "outputs": [],
   "source": [
    "def getrate():\n",
    "    symbol = \"^TNX\"\n",
    "    now=datetime.now()\n",
    "    ago10 = now.replace(year=now.year-10)\n",
    "    treasury_data = yf.download(symbol, start=ago10, end=now)\n",
    "    last_yield = treasury_data['Close'].iloc[-1]\n",
    "    return last_yield"
   ]
  },
  {
   "cell_type": "code",
   "execution_count": 12,
   "id": "b720a8aa",
   "metadata": {},
   "outputs": [],
   "source": [
    "def get_t(date_str):\n",
    "    date_obj=datetime.strptime(date_str, '%Y-%m-%d')\n",
    "    diff=(date_obj-datetime.now()).days/365.25\n",
    "    return diff"
   ]
  },
  {
   "cell_type": "code",
   "execution_count": 13,
   "id": "56a7cd8a",
   "metadata": {},
   "outputs": [],
   "source": [
    "def calculate_vol(symb):\n",
    "    data = yf.download(symb, start=datetime.now().replace(year=datetime.now().year-10), end=datetime.now())\n",
    "    data['Daily_Return'] = data['Adj Close'].pct_change()\n",
    "    daily_vol = data['Daily_Return'].std()\n",
    "    annual_vol=daily_vol*252**0.5\n",
    "    return annual_vol\n",
    "    "
   ]
  },
  {
   "cell_type": "code",
   "execution_count": 14,
   "id": "f05cd297",
   "metadata": {},
   "outputs": [],
   "source": [
    "def delta_call(S, k, r, t, vol):\n",
    "    return norm.cdf(d1(S, k, r, t, vol))"
   ]
  },
  {
   "cell_type": "code",
   "execution_count": 15,
   "id": "2b1820c8",
   "metadata": {},
   "outputs": [],
   "source": [
    "def delta_put(S, k, r, t, vol):\n",
    "    return norm.cdf(d1(S, k, r, t, vol))-1"
   ]
  },
  {
   "cell_type": "code",
   "execution_count": 16,
   "id": "3bd082f0",
   "metadata": {},
   "outputs": [],
   "source": [
    "def gamma_call(S, k, r, t, vol):\n",
    "    return norm.pdf(d1(S, k, r, t, vol))/(S*vol*np.sqrt(t))"
   ]
  },
  {
   "cell_type": "code",
   "execution_count": 17,
   "id": "67772a32",
   "metadata": {},
   "outputs": [],
   "source": [
    "def gamma_put(S, k, r, t, vol):\n",
    "    return norm.pdf(d1(S, k, r, t, vol))/(S*vol*np.sqrt(t))"
   ]
  },
  {
   "cell_type": "code",
   "execution_count": 18,
   "id": "6ebaecd3",
   "metadata": {},
   "outputs": [],
   "source": [
    "def vega(S, k, r, t, vol):\n",
    "    return S*np.sqrt(t)*norm.pdf(d1(S, k, r, t, vol))"
   ]
  },
  {
   "cell_type": "code",
   "execution_count": 19,
   "id": "832b64a3",
   "metadata": {},
   "outputs": [],
   "source": [
    "def rho_call(S, k, r, t, vol):\n",
    "    return k*t*S*norm.cdf(d2(S, k, r, t, vol))\n",
    "def rho_put(S, k, r, t, vol):\n",
    "    return -k*t*S*norm.cdf(-d2(S, k, r, t, vol))"
   ]
  },
  {
   "cell_type": "code",
   "execution_count": 20,
   "id": "b2e954b0",
   "metadata": {},
   "outputs": [],
   "source": [
    "def theta_call(S, k, r, t, vol):\n",
    "    return -(S*norm.pdf(d1(S, k, r, t, vol))*vol/(2*np.sqrt(t)))-r*k*np.exp(-r*t)*norm.cdf(d2(S, k, r, t, vol))\n",
    "def theta_put(S, k, r, t, vol):\n",
    "    return -(S*norm.pdf(d1(S, k, r, t, vol))*vol/(2*np.sqrt(t)))+r*k*np.exp(-r*t)*norm.cdf(-d2(S, k, r, t, vol))"
   ]
  },
  {
   "cell_type": "code",
   "execution_count": 21,
   "id": "67000129",
   "metadata": {},
   "outputs": [
    {
     "name": "stderr",
     "output_type": "stream",
     "text": [
      "[*********************100%%**********************]  1 of 1 completed\n",
      "[*********************100%%**********************]  1 of 1 completed\n",
      "[*********************100%%**********************]  1 of 1 completed\n"
     ]
    },
    {
     "name": "stdout",
     "output_type": "stream",
     "text": [
      "Risk free rate 0.04513999938964844\n",
      "Current Stock Price 192.25\n",
      "Volatility 0.2831879674298865\n"
     ]
    }
   ],
   "source": [
    "symbol ='AAPL'\n",
    "S= getS(symbol)\n",
    "vol=calculate_vol(symbol)\n",
    "r=getrate()/100\n",
    "vol=calculate_vol(symbol)\n",
    "option = yf.Ticker(symbol)\n",
    "print(f\"Risk free rate {r}\\nCurrent Stock Price {S}\\nVolatility {vol}\")\n",
    "combined = pd.DataFrame()\n",
    "for i in range(20):\n",
    "    date1=option.options[i]\n",
    "    t=get_t(date1)\n",
    "    calls,put=optiondata(symbol, date1)\n",
    "    col_drop=['lastTradeDate', 'lastPrice', 'volume', 'openInterest', 'contractSize', 'currency']\n",
    "    calls.drop(columns=col_drop, inplace=True)\n",
    "    calls['bsmValuation'] = calls.apply(lambda row: call(S, row['strike'], t, r, vol), axis=1)\n",
    "    calls['diff']=calls.apply(lambda row: (row['bsmValuation']-row['ask']), axis=1)\n",
    "    calls['delta']=calls.apply(lambda row: delta_call(S, row['strike'], t, r, vol), axis=1)\n",
    "    calls['gamma']=calls.apply(lambda row: gamma_call(S, row['strike'], t, r, vol), axis=1)\n",
    "    calls['vega']=calls.apply(lambda row: vega(S, row['strike'], t, r, vol), axis=1)\n",
    "    calls['rho']=calls.apply(lambda row: rho_call(S, row['strike'], t, r, vol), axis =1)\n",
    "    calls['theta']=calls.apply(lambda row: theta_call(S, row['strike'], t,r,vol), axis=1)\n",
    "    combined=pd.concat([combined, calls], ignore_index=True)"
   ]
  },
  {
   "cell_type": "code",
   "execution_count": 22,
   "id": "34f6f407",
   "metadata": {},
   "outputs": [
    {
     "data": {
      "text/html": [
       "<div>\n",
       "<style scoped>\n",
       "    .dataframe tbody tr th:only-of-type {\n",
       "        vertical-align: middle;\n",
       "    }\n",
       "\n",
       "    .dataframe tbody tr th {\n",
       "        vertical-align: top;\n",
       "    }\n",
       "\n",
       "    .dataframe thead th {\n",
       "        text-align: right;\n",
       "    }\n",
       "</style>\n",
       "<table border=\"1\" class=\"dataframe\">\n",
       "  <thead>\n",
       "    <tr style=\"text-align: right;\">\n",
       "      <th></th>\n",
       "      <th>contractSymbol</th>\n",
       "      <th>strike</th>\n",
       "      <th>bid</th>\n",
       "      <th>ask</th>\n",
       "      <th>change</th>\n",
       "      <th>percentChange</th>\n",
       "      <th>impliedVolatility</th>\n",
       "      <th>inTheMoney</th>\n",
       "      <th>bsmValuation</th>\n",
       "      <th>diff</th>\n",
       "      <th>delta</th>\n",
       "      <th>gamma</th>\n",
       "      <th>vega</th>\n",
       "      <th>rho</th>\n",
       "      <th>theta</th>\n",
       "    </tr>\n",
       "  </thead>\n",
       "  <tbody>\n",
       "    <tr>\n",
       "      <th>0</th>\n",
       "      <td>AAPL240607C00100000</td>\n",
       "      <td>100.0</td>\n",
       "      <td>0.0</td>\n",
       "      <td>0.0</td>\n",
       "      <td>0.0</td>\n",
       "      <td>0.0</td>\n",
       "      <td>0.000010</td>\n",
       "      <td>True</td>\n",
       "      <td>9.228707e+01</td>\n",
       "      <td>9.228707e+01</td>\n",
       "      <td>1.000000e+00</td>\n",
       "      <td>5.484343e-28</td>\n",
       "      <td>2.591156e-25</td>\n",
       "      <td>8.678165e+02</td>\n",
       "      <td>-8.210508e-01</td>\n",
       "    </tr>\n",
       "    <tr>\n",
       "      <th>1</th>\n",
       "      <td>AAPL240607C00110000</td>\n",
       "      <td>110.0</td>\n",
       "      <td>0.0</td>\n",
       "      <td>0.0</td>\n",
       "      <td>0.0</td>\n",
       "      <td>0.0</td>\n",
       "      <td>0.000010</td>\n",
       "      <td>True</td>\n",
       "      <td>8.229078e+01</td>\n",
       "      <td>8.229078e+01</td>\n",
       "      <td>1.000000e+00</td>\n",
       "      <td>4.931332e-21</td>\n",
       "      <td>2.329879e-18</td>\n",
       "      <td>9.545981e+02</td>\n",
       "      <td>-9.031558e-01</td>\n",
       "    </tr>\n",
       "    <tr>\n",
       "      <th>2</th>\n",
       "      <td>AAPL240607C00120000</td>\n",
       "      <td>120.0</td>\n",
       "      <td>0.0</td>\n",
       "      <td>0.0</td>\n",
       "      <td>0.0</td>\n",
       "      <td>0.0</td>\n",
       "      <td>0.000010</td>\n",
       "      <td>True</td>\n",
       "      <td>7.229448e+01</td>\n",
       "      <td>7.229448e+01</td>\n",
       "      <td>1.000000e+00</td>\n",
       "      <td>1.229465e-15</td>\n",
       "      <td>5.808786e-13</td>\n",
       "      <td>1.041380e+03</td>\n",
       "      <td>-9.852609e-01</td>\n",
       "    </tr>\n",
       "    <tr>\n",
       "      <th>3</th>\n",
       "      <td>AAPL240607C00125000</td>\n",
       "      <td>125.0</td>\n",
       "      <td>0.0</td>\n",
       "      <td>0.0</td>\n",
       "      <td>0.0</td>\n",
       "      <td>0.0</td>\n",
       "      <td>0.000010</td>\n",
       "      <td>True</td>\n",
       "      <td>6.729634e+01</td>\n",
       "      <td>6.729634e+01</td>\n",
       "      <td>1.000000e+00</td>\n",
       "      <td>2.035229e-13</td>\n",
       "      <td>9.615732e-11</td>\n",
       "      <td>1.084771e+03</td>\n",
       "      <td>-1.026313e+00</td>\n",
       "    </tr>\n",
       "    <tr>\n",
       "      <th>4</th>\n",
       "      <td>AAPL240607C00130000</td>\n",
       "      <td>130.0</td>\n",
       "      <td>0.0</td>\n",
       "      <td>0.0</td>\n",
       "      <td>0.0</td>\n",
       "      <td>0.0</td>\n",
       "      <td>0.000010</td>\n",
       "      <td>True</td>\n",
       "      <td>6.229819e+01</td>\n",
       "      <td>6.229819e+01</td>\n",
       "      <td>1.000000e+00</td>\n",
       "      <td>1.787141e-11</td>\n",
       "      <td>8.443606e-09</td>\n",
       "      <td>1.128161e+03</td>\n",
       "      <td>-1.067366e+00</td>\n",
       "    </tr>\n",
       "    <tr>\n",
       "      <th>...</th>\n",
       "      <td>...</td>\n",
       "      <td>...</td>\n",
       "      <td>...</td>\n",
       "      <td>...</td>\n",
       "      <td>...</td>\n",
       "      <td>...</td>\n",
       "      <td>...</td>\n",
       "      <td>...</td>\n",
       "      <td>...</td>\n",
       "      <td>...</td>\n",
       "      <td>...</td>\n",
       "      <td>...</td>\n",
       "      <td>...</td>\n",
       "      <td>...</td>\n",
       "      <td>...</td>\n",
       "    </tr>\n",
       "    <tr>\n",
       "      <th>930</th>\n",
       "      <td>AAPL261218C00310000</td>\n",
       "      <td>310.0</td>\n",
       "      <td>0.0</td>\n",
       "      <td>0.0</td>\n",
       "      <td>0.0</td>\n",
       "      <td>0.0</td>\n",
       "      <td>0.062509</td>\n",
       "      <td>False</td>\n",
       "      <td>1.718015e-09</td>\n",
       "      <td>1.718015e-09</td>\n",
       "      <td>9.468697e-10</td>\n",
       "      <td>5.046622e-10</td>\n",
       "      <td>2.384349e-07</td>\n",
       "      <td>1.754773e-06</td>\n",
       "      <td>-1.205560e-06</td>\n",
       "    </tr>\n",
       "    <tr>\n",
       "      <th>931</th>\n",
       "      <td>AAPL261218C00320000</td>\n",
       "      <td>320.0</td>\n",
       "      <td>0.0</td>\n",
       "      <td>0.0</td>\n",
       "      <td>0.0</td>\n",
       "      <td>0.0</td>\n",
       "      <td>0.062509</td>\n",
       "      <td>False</td>\n",
       "      <td>5.369675e-11</td>\n",
       "      <td>5.369675e-11</td>\n",
       "      <td>3.194355e-11</td>\n",
       "      <td>1.845009e-11</td>\n",
       "      <td>8.717012e-09</td>\n",
       "      <td>5.924040e-08</td>\n",
       "      <td>-4.279316e-08</td>\n",
       "    </tr>\n",
       "    <tr>\n",
       "      <th>932</th>\n",
       "      <td>AAPL261218C00330000</td>\n",
       "      <td>330.0</td>\n",
       "      <td>0.0</td>\n",
       "      <td>0.0</td>\n",
       "      <td>0.0</td>\n",
       "      <td>0.0</td>\n",
       "      <td>0.062509</td>\n",
       "      <td>False</td>\n",
       "      <td>1.440454e-12</td>\n",
       "      <td>1.440454e-12</td>\n",
       "      <td>9.220669e-13</td>\n",
       "      <td>5.725539e-13</td>\n",
       "      <td>2.705113e-10</td>\n",
       "      <td>1.711013e-09</td>\n",
       "      <td>-1.294764e-09</td>\n",
       "    </tr>\n",
       "    <tr>\n",
       "      <th>933</th>\n",
       "      <td>AAPL261218C00340000</td>\n",
       "      <td>340.0</td>\n",
       "      <td>0.0</td>\n",
       "      <td>0.0</td>\n",
       "      <td>0.0</td>\n",
       "      <td>0.0</td>\n",
       "      <td>0.062509</td>\n",
       "      <td>False</td>\n",
       "      <td>4.056684e-14</td>\n",
       "      <td>4.056684e-14</td>\n",
       "      <td>2.314787e-14</td>\n",
       "      <td>1.534966e-14</td>\n",
       "      <td>7.252168e-12</td>\n",
       "      <td>4.297543e-11</td>\n",
       "      <td>-3.395639e-11</td>\n",
       "    </tr>\n",
       "    <tr>\n",
       "      <th>934</th>\n",
       "      <td>AAPL261218C00350000</td>\n",
       "      <td>350.0</td>\n",
       "      <td>0.0</td>\n",
       "      <td>0.0</td>\n",
       "      <td>0.0</td>\n",
       "      <td>0.0</td>\n",
       "      <td>0.062509</td>\n",
       "      <td>False</td>\n",
       "      <td>-7.906664e-15</td>\n",
       "      <td>-7.906664e-15</td>\n",
       "      <td>5.128313e-16</td>\n",
       "      <td>3.611036e-16</td>\n",
       "      <td>1.706086e-13</td>\n",
       "      <td>9.525160e-13</td>\n",
       "      <td>-7.835763e-13</td>\n",
       "    </tr>\n",
       "  </tbody>\n",
       "</table>\n",
       "<p>935 rows × 15 columns</p>\n",
       "</div>"
      ],
      "text/plain": [
       "          contractSymbol  strike  bid  ask  change  percentChange  \\\n",
       "0    AAPL240607C00100000   100.0  0.0  0.0     0.0            0.0   \n",
       "1    AAPL240607C00110000   110.0  0.0  0.0     0.0            0.0   \n",
       "2    AAPL240607C00120000   120.0  0.0  0.0     0.0            0.0   \n",
       "3    AAPL240607C00125000   125.0  0.0  0.0     0.0            0.0   \n",
       "4    AAPL240607C00130000   130.0  0.0  0.0     0.0            0.0   \n",
       "..                   ...     ...  ...  ...     ...            ...   \n",
       "930  AAPL261218C00310000   310.0  0.0  0.0     0.0            0.0   \n",
       "931  AAPL261218C00320000   320.0  0.0  0.0     0.0            0.0   \n",
       "932  AAPL261218C00330000   330.0  0.0  0.0     0.0            0.0   \n",
       "933  AAPL261218C00340000   340.0  0.0  0.0     0.0            0.0   \n",
       "934  AAPL261218C00350000   350.0  0.0  0.0     0.0            0.0   \n",
       "\n",
       "     impliedVolatility  inTheMoney  bsmValuation          diff         delta  \\\n",
       "0             0.000010        True  9.228707e+01  9.228707e+01  1.000000e+00   \n",
       "1             0.000010        True  8.229078e+01  8.229078e+01  1.000000e+00   \n",
       "2             0.000010        True  7.229448e+01  7.229448e+01  1.000000e+00   \n",
       "3             0.000010        True  6.729634e+01  6.729634e+01  1.000000e+00   \n",
       "4             0.000010        True  6.229819e+01  6.229819e+01  1.000000e+00   \n",
       "..                 ...         ...           ...           ...           ...   \n",
       "930           0.062509       False  1.718015e-09  1.718015e-09  9.468697e-10   \n",
       "931           0.062509       False  5.369675e-11  5.369675e-11  3.194355e-11   \n",
       "932           0.062509       False  1.440454e-12  1.440454e-12  9.220669e-13   \n",
       "933           0.062509       False  4.056684e-14  4.056684e-14  2.314787e-14   \n",
       "934           0.062509       False -7.906664e-15 -7.906664e-15  5.128313e-16   \n",
       "\n",
       "            gamma          vega           rho         theta  \n",
       "0    5.484343e-28  2.591156e-25  8.678165e+02 -8.210508e-01  \n",
       "1    4.931332e-21  2.329879e-18  9.545981e+02 -9.031558e-01  \n",
       "2    1.229465e-15  5.808786e-13  1.041380e+03 -9.852609e-01  \n",
       "3    2.035229e-13  9.615732e-11  1.084771e+03 -1.026313e+00  \n",
       "4    1.787141e-11  8.443606e-09  1.128161e+03 -1.067366e+00  \n",
       "..            ...           ...           ...           ...  \n",
       "930  5.046622e-10  2.384349e-07  1.754773e-06 -1.205560e-06  \n",
       "931  1.845009e-11  8.717012e-09  5.924040e-08 -4.279316e-08  \n",
       "932  5.725539e-13  2.705113e-10  1.711013e-09 -1.294764e-09  \n",
       "933  1.534966e-14  7.252168e-12  4.297543e-11 -3.395639e-11  \n",
       "934  3.611036e-16  1.706086e-13  9.525160e-13 -7.835763e-13  \n",
       "\n",
       "[935 rows x 15 columns]"
      ]
     },
     "execution_count": 22,
     "metadata": {},
     "output_type": "execute_result"
    }
   ],
   "source": [
    "combined"
   ]
  },
  {
   "cell_type": "code",
   "execution_count": 24,
   "id": "73227d9b",
   "metadata": {},
   "outputs": [],
   "source": [
    "combined.to_csv('data.csv', index=False)"
   ]
  },
  {
   "cell_type": "code",
   "execution_count": null,
   "id": "d0258a7d",
   "metadata": {},
   "outputs": [],
   "source": []
  }
 ],
 "metadata": {
  "kernelspec": {
   "display_name": "Python 3 (ipykernel)",
   "language": "python",
   "name": "python3"
  },
  "language_info": {
   "codemirror_mode": {
    "name": "ipython",
    "version": 3
   },
   "file_extension": ".py",
   "mimetype": "text/x-python",
   "name": "python",
   "nbconvert_exporter": "python",
   "pygments_lexer": "ipython3",
   "version": "3.11.7"
  }
 },
 "nbformat": 4,
 "nbformat_minor": 5
}
