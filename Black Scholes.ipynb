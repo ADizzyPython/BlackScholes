{
 "cells": [
  {
   "cell_type": "code",
   "execution_count": 48,
   "id": "1834c6ce",
   "metadata": {},
   "outputs": [],
   "source": [
    "from scipy.stats import norm"
   ]
  },
  {
   "cell_type": "code",
   "execution_count": 49,
   "id": "00c20e4d",
   "metadata": {},
   "outputs": [],
   "source": [
    "import yfinance as yf, math, pandas as pd, numpy as np"
   ]
  },
  {
   "cell_type": "code",
   "execution_count": 50,
   "id": "81fe2e1e",
   "metadata": {},
   "outputs": [],
   "source": [
    "from datetime import datetime"
   ]
  },
  {
   "cell_type": "code",
   "execution_count": 51,
   "id": "c7d9166c",
   "metadata": {},
   "outputs": [],
   "source": [
    "def cdf(x):\n",
    "    return 0.5*(1+math.erf(x/math.sqrt(2)))\n",
    "            "
   ]
  },
  {
   "cell_type": "code",
   "execution_count": 52,
   "id": "17e7dcc1",
   "metadata": {},
   "outputs": [],
   "source": [
    "def d1(S,K, r, t, vol):\n",
    "    return (math.log(S/K)+(r + (vol**2)/2)*t)/(vol*math.sqrt(t))"
   ]
  },
  {
   "cell_type": "code",
   "execution_count": 53,
   "id": "2af128f3",
   "metadata": {},
   "outputs": [],
   "source": [
    "def d2(S, K, r, t, vol):\n",
    "    return d1(S, K, r, t, vol) - vol*math.sqrt(t)"
   ]
  },
  {
   "cell_type": "code",
   "execution_count": 54,
   "id": "196b2ffe",
   "metadata": {},
   "outputs": [],
   "source": [
    "def call(S, K, r, t, vol):\n",
    "    Nd1 = cdf(d1(S, K, r, t, vol))\n",
    "    Nd2= cdf(d2(S, K, r, t, vol))\n",
    "    return S*Nd1-K*math.exp(-r*t)*Nd2"
   ]
  },
  {
   "cell_type": "code",
   "execution_count": 55,
   "id": "50cd25e3",
   "metadata": {},
   "outputs": [],
   "source": [
    "def put(S, K, r, t, vol):\n",
    "    Nd1 = cdf(-d1(S, K, r, t, vol))\n",
    "    Nd2 = cdf(-d2(S, K, r, t, vol))\n",
    "    return K*math.exp(-r*t)*Nd2 - S*Nd1"
   ]
  },
  {
   "cell_type": "code",
   "execution_count": 56,
   "id": "09603c33",
   "metadata": {},
   "outputs": [],
   "source": [
    "def optiondata(symbol, date):\n",
    "    option=yf.Ticker(symbol)\n",
    "    options_data=option.option_chain(date)\n",
    "    return options_data.calls, options_data.puts"
   ]
  },
  {
   "cell_type": "code",
   "execution_count": 57,
   "id": "e1017857",
   "metadata": {},
   "outputs": [],
   "source": [
    "def getS(ticker_symbol):\n",
    "    stock = yf.Ticker(ticker_symbol)\n",
    "    return stock.history(period=\"1d\")['Close'].iloc[-1]"
   ]
  },
  {
   "cell_type": "code",
   "execution_count": 58,
   "id": "948b6d17",
   "metadata": {},
   "outputs": [],
   "source": [
    "def getrate():\n",
    "    symbol = \"^TNX\"\n",
    "    now=datetime.now()\n",
    "    ago10 = now.replace(year=now.year-10)\n",
    "    treasury_data = yf.download(symbol, start=ago10, end=now)\n",
    "    last_yield = treasury_data['Close'].iloc[-1]\n",
    "    return last_yield"
   ]
  },
  {
   "cell_type": "code",
   "execution_count": 59,
   "id": "b720a8aa",
   "metadata": {},
   "outputs": [],
   "source": [
    "def get_t(date_str):\n",
    "    date_obj=datetime.strptime(date_str, '%Y-%m-%d')\n",
    "    diff=(date_obj-datetime.now()).days/365.25\n",
    "    return diff"
   ]
  },
  {
   "cell_type": "code",
   "execution_count": 60,
   "id": "56a7cd8a",
   "metadata": {},
   "outputs": [],
   "source": [
    "def calculate_vol(symb):\n",
    "    data = yf.download(symb, start=datetime.now().replace(year=datetime.now().year-10), end=datetime.now())\n",
    "    data['Daily_Return'] = data['Adj Close'].pct_change()\n",
    "    daily_vol = data['Daily_Return'].std()\n",
    "    annual_vol=daily_vol*252**0.5\n",
    "    return annual_vol\n",
    "    "
   ]
  },
  {
   "cell_type": "code",
   "execution_count": 61,
   "id": "f05cd297",
   "metadata": {},
   "outputs": [],
   "source": [
    "def delta_call(S, k, r, t, vol):\n",
    "    return norm.cdf(d1(S, k, r, t, vol))"
   ]
  },
  {
   "cell_type": "code",
   "execution_count": 62,
   "id": "2b1820c8",
   "metadata": {},
   "outputs": [],
   "source": [
    "def delta_put(S, k, r, t, vol):\n",
    "    return norm.cdf(d1(S, k, r, t, vol))-1"
   ]
  },
  {
   "cell_type": "code",
   "execution_count": 63,
   "id": "3bd082f0",
   "metadata": {},
   "outputs": [],
   "source": [
    "def gamma_call(S, k, r, t, vol):\n",
    "    return norm.pdf(d1(S, k, r, t, vol))/(S*vol*np.sqrt(t))"
   ]
  },
  {
   "cell_type": "code",
   "execution_count": 64,
   "id": "67772a32",
   "metadata": {},
   "outputs": [],
   "source": [
    "def gamma_put(S, k, r, t, vol):\n",
    "    return norm.pdf(d1(S, k, r, t, vol))/(S*vol*np.sqrt(t))"
   ]
  },
  {
   "cell_type": "code",
   "execution_count": 65,
   "id": "6ebaecd3",
   "metadata": {},
   "outputs": [],
   "source": [
    "def vega(S, k, r, t, vol):\n",
    "    return S*np.sqrt(t)*norm.pdf(d1(S, k, r, t, vol))"
   ]
  },
  {
   "cell_type": "code",
   "execution_count": 66,
   "id": "832b64a3",
   "metadata": {},
   "outputs": [],
   "source": [
    "def rho_call(S, k, r, t, vol):\n",
    "    return k*t*S*norm.cdf(d2(S, k, r, t, vol))\n",
    "def rho_put(S, k, r, t, vol):\n",
    "    return -k*t*S*norm.cdf(-d2(S, k, r, t, vol))"
   ]
  },
  {
   "cell_type": "code",
   "execution_count": 67,
   "id": "b2e954b0",
   "metadata": {},
   "outputs": [],
   "source": [
    "def theta_call(S, k, r, t, vol):\n",
    "    return -(S*norm.pdf(d1(S, k, r, t, vol))*vol/(2*np.sqrt(t)))-r*k*np.exp(-r*t)*norm.cdf(d2(S, k, r, t, vol))\n",
    "def theta_put(S, k, r, t, vol):\n",
    "    return -(S*norm.pdf(d1(S, k, r, t, vol))*vol/(2*np.sqrt(t)))+r*k*np.exp(-r*t)*norm.cdf(-d2(S, k, r, t, vol))"
   ]
  },
  {
   "cell_type": "code",
   "execution_count": 68,
   "id": "67000129",
   "metadata": {},
   "outputs": [
    {
     "name": "stderr",
     "output_type": "stream",
     "text": [
      "[*********************100%%**********************]  1 of 1 completed\n",
      "[*********************100%%**********************]  1 of 1 completed\n",
      "[*********************100%%**********************]  1 of 1 completed\n"
     ]
    },
    {
     "name": "stdout",
     "output_type": "stream",
     "text": [
      "Risk free rate 0.044630002975463864\n",
      "Current Stock Price 194.19000244140625\n",
      "Volatility 0.2831469735255448\n"
     ]
    }
   ],
   "source": [
    "symbol ='AAPL'\n",
    "S= getS(symbol)\n",
    "vol=calculate_vol(symbol)\n",
    "r=getrate()/100\n",
    "vol=calculate_vol(symbol)\n",
    "option = yf.Ticker(symbol)\n",
    "print(f\"Risk free rate {r}\\nCurrent Stock Price {S}\\nVolatility {vol}\")\n",
    "combined = pd.DataFrame()\n",
    "for i in range(len(option.options)):\n",
    "    date1=option.options[i]\n",
    "    calls, puts = optiondata(symbol, date1)\n",
    "    t=get_t(date1)\n",
    "    col_drop=['lastTradeDate', 'lastPrice', 'volume', 'openInterest', 'contractSize', 'currency']\n",
    "    calls.drop(columns=col_drop, inplace=True)\n",
    "    calls['bsmValuation'] = calls.apply(lambda row: call(S, row['strike'], t, r, vol), axis=1)\n",
    "    calls['diff']=calls.apply(lambda row: (row['bsmValuation']-row['ask']), axis=1)\n",
    "    calls['delta']=calls.apply(lambda row: delta_call(S, row['strike'], t, r, vol), axis=1)\n",
    "    calls['gamma']=calls.apply(lambda row: gamma_call(S, row['strike'], t, r, vol), axis=1)\n",
    "    calls['vega']=calls.apply(lambda row: vega(S, row['strike'], t, r, vol), axis=1)\n",
    "    calls['rho']=calls.apply(lambda row: rho_call(S, row['strike'], t, r, vol), axis =1)\n",
    "    calls['theta']=calls.apply(lambda row: theta_call(S, row['strike'], t,r,vol), axis=1)\n",
    "    combined=pd.concat([combined, calls], ignore_index=True)"
   ]
  },
  {
   "cell_type": "code",
   "execution_count": 69,
   "id": "34f6f407",
   "metadata": {},
   "outputs": [
    {
     "data": {
      "text/html": [
       "<div>\n",
       "<style scoped>\n",
       "    .dataframe tbody tr th:only-of-type {\n",
       "        vertical-align: middle;\n",
       "    }\n",
       "\n",
       "    .dataframe tbody tr th {\n",
       "        vertical-align: top;\n",
       "    }\n",
       "\n",
       "    .dataframe thead th {\n",
       "        text-align: right;\n",
       "    }\n",
       "</style>\n",
       "<table border=\"1\" class=\"dataframe\">\n",
       "  <thead>\n",
       "    <tr style=\"text-align: right;\">\n",
       "      <th></th>\n",
       "      <th>contractSymbol</th>\n",
       "      <th>strike</th>\n",
       "      <th>bid</th>\n",
       "      <th>ask</th>\n",
       "      <th>change</th>\n",
       "      <th>percentChange</th>\n",
       "      <th>impliedVolatility</th>\n",
       "      <th>inTheMoney</th>\n",
       "      <th>bsmValuation</th>\n",
       "      <th>diff</th>\n",
       "      <th>delta</th>\n",
       "      <th>gamma</th>\n",
       "      <th>vega</th>\n",
       "      <th>rho</th>\n",
       "      <th>theta</th>\n",
       "    </tr>\n",
       "  </thead>\n",
       "  <tbody>\n",
       "    <tr>\n",
       "      <th>0</th>\n",
       "      <td>AAPL240607C00100000</td>\n",
       "      <td>100.0</td>\n",
       "      <td>92.55</td>\n",
       "      <td>93.75</td>\n",
       "      <td>0.0</td>\n",
       "      <td>0.0</td>\n",
       "      <td>0.000010</td>\n",
       "      <td>True</td>\n",
       "      <td>9.422665e+01</td>\n",
       "      <td>0.476653</td>\n",
       "      <td>1.000000e+00</td>\n",
       "      <td>4.281862e-29</td>\n",
       "      <td>2.040447e-26</td>\n",
       "      <td>8.666700e+02</td>\n",
       "      <td>-8.210542e-01</td>\n",
       "    </tr>\n",
       "    <tr>\n",
       "      <th>1</th>\n",
       "      <td>AAPL240607C00110000</td>\n",
       "      <td>110.0</td>\n",
       "      <td>82.35</td>\n",
       "      <td>83.45</td>\n",
       "      <td>0.0</td>\n",
       "      <td>0.0</td>\n",
       "      <td>0.000010</td>\n",
       "      <td>True</td>\n",
       "      <td>8.423032e+01</td>\n",
       "      <td>0.780318</td>\n",
       "      <td>1.000000e+00</td>\n",
       "      <td>6.065031e-22</td>\n",
       "      <td>2.890185e-19</td>\n",
       "      <td>9.533370e+02</td>\n",
       "      <td>-9.031596e-01</td>\n",
       "    </tr>\n",
       "    <tr>\n",
       "      <th>2</th>\n",
       "      <td>AAPL240607C00120000</td>\n",
       "      <td>120.0</td>\n",
       "      <td>72.30</td>\n",
       "      <td>73.30</td>\n",
       "      <td>0.0</td>\n",
       "      <td>0.0</td>\n",
       "      <td>0.000010</td>\n",
       "      <td>True</td>\n",
       "      <td>7.423398e+01</td>\n",
       "      <td>0.933983</td>\n",
       "      <td>1.000000e+00</td>\n",
       "      <td>2.231559e-16</td>\n",
       "      <td>1.063410e-13</td>\n",
       "      <td>1.040004e+03</td>\n",
       "      <td>-9.852650e-01</td>\n",
       "    </tr>\n",
       "    <tr>\n",
       "      <th>3</th>\n",
       "      <td>AAPL240607C00125000</td>\n",
       "      <td>125.0</td>\n",
       "      <td>67.30</td>\n",
       "      <td>68.50</td>\n",
       "      <td>0.0</td>\n",
       "      <td>0.0</td>\n",
       "      <td>0.000010</td>\n",
       "      <td>True</td>\n",
       "      <td>6.923582e+01</td>\n",
       "      <td>0.735815</td>\n",
       "      <td>1.000000e+00</td>\n",
       "      <td>4.396783e-14</td>\n",
       "      <td>2.095210e-11</td>\n",
       "      <td>1.083338e+03</td>\n",
       "      <td>-1.026318e+00</td>\n",
       "    </tr>\n",
       "    <tr>\n",
       "      <th>4</th>\n",
       "      <td>AAPL240607C00130000</td>\n",
       "      <td>130.0</td>\n",
       "      <td>62.40</td>\n",
       "      <td>63.80</td>\n",
       "      <td>0.0</td>\n",
       "      <td>0.0</td>\n",
       "      <td>0.000010</td>\n",
       "      <td>True</td>\n",
       "      <td>6.423765e+01</td>\n",
       "      <td>0.437648</td>\n",
       "      <td>1.000000e+00</td>\n",
       "      <td>4.540845e-12</td>\n",
       "      <td>2.163861e-09</td>\n",
       "      <td>1.126671e+03</td>\n",
       "      <td>-1.067370e+00</td>\n",
       "    </tr>\n",
       "    <tr>\n",
       "      <th>...</th>\n",
       "      <td>...</td>\n",
       "      <td>...</td>\n",
       "      <td>...</td>\n",
       "      <td>...</td>\n",
       "      <td>...</td>\n",
       "      <td>...</td>\n",
       "      <td>...</td>\n",
       "      <td>...</td>\n",
       "      <td>...</td>\n",
       "      <td>...</td>\n",
       "      <td>...</td>\n",
       "      <td>...</td>\n",
       "      <td>...</td>\n",
       "      <td>...</td>\n",
       "      <td>...</td>\n",
       "    </tr>\n",
       "    <tr>\n",
       "      <th>930</th>\n",
       "      <td>AAPL261218C00310000</td>\n",
       "      <td>310.0</td>\n",
       "      <td>5.65</td>\n",
       "      <td>6.30</td>\n",
       "      <td>0.0</td>\n",
       "      <td>0.0</td>\n",
       "      <td>0.257362</td>\n",
       "      <td>False</td>\n",
       "      <td>3.452379e-09</td>\n",
       "      <td>-6.300000</td>\n",
       "      <td>1.863200e-09</td>\n",
       "      <td>9.715365e-10</td>\n",
       "      <td>4.629688e-07</td>\n",
       "      <td>3.478316e-06</td>\n",
       "      <td>-2.378130e-06</td>\n",
       "    </tr>\n",
       "    <tr>\n",
       "      <th>931</th>\n",
       "      <td>AAPL261218C00320000</td>\n",
       "      <td>320.0</td>\n",
       "      <td>4.35</td>\n",
       "      <td>5.55</td>\n",
       "      <td>0.0</td>\n",
       "      <td>0.0</td>\n",
       "      <td>0.258476</td>\n",
       "      <td>False</td>\n",
       "      <td>1.117872e-10</td>\n",
       "      <td>-5.550000</td>\n",
       "      <td>6.521696e-11</td>\n",
       "      <td>3.691797e-11</td>\n",
       "      <td>1.759261e-08</td>\n",
       "      <td>1.218382e-07</td>\n",
       "      <td>-8.766517e-08</td>\n",
       "    </tr>\n",
       "    <tr>\n",
       "      <th>932</th>\n",
       "      <td>AAPL261218C00330000</td>\n",
       "      <td>330.0</td>\n",
       "      <td>3.80</td>\n",
       "      <td>4.75</td>\n",
       "      <td>0.0</td>\n",
       "      <td>0.0</td>\n",
       "      <td>0.257423</td>\n",
       "      <td>False</td>\n",
       "      <td>3.103404e-12</td>\n",
       "      <td>-4.750000</td>\n",
       "      <td>1.945375e-12</td>\n",
       "      <td>1.185680e-12</td>\n",
       "      <td>5.650150e-10</td>\n",
       "      <td>3.636551e-09</td>\n",
       "      <td>-2.743213e-09</td>\n",
       "    </tr>\n",
       "    <tr>\n",
       "      <th>933</th>\n",
       "      <td>AAPL261218C00340000</td>\n",
       "      <td>340.0</td>\n",
       "      <td>3.20</td>\n",
       "      <td>3.95</td>\n",
       "      <td>0.0</td>\n",
       "      <td>0.0</td>\n",
       "      <td>0.254646</td>\n",
       "      <td>False</td>\n",
       "      <td>7.618329e-14</td>\n",
       "      <td>-3.950000</td>\n",
       "      <td>5.027993e-14</td>\n",
       "      <td>3.276757e-14</td>\n",
       "      <td>1.561481e-11</td>\n",
       "      <td>9.403837e-11</td>\n",
       "      <td>-7.412208e-11</td>\n",
       "    </tr>\n",
       "    <tr>\n",
       "      <th>934</th>\n",
       "      <td>AAPL261218C00350000</td>\n",
       "      <td>350.0</td>\n",
       "      <td>2.85</td>\n",
       "      <td>3.35</td>\n",
       "      <td>0.0</td>\n",
       "      <td>0.0</td>\n",
       "      <td>0.253395</td>\n",
       "      <td>False</td>\n",
       "      <td>8.467255e-16</td>\n",
       "      <td>-3.350000</td>\n",
       "      <td>1.142868e-15</td>\n",
       "      <td>7.917532e-16</td>\n",
       "      <td>3.772962e-13</td>\n",
       "      <td>2.138452e-12</td>\n",
       "      <td>-1.756012e-12</td>\n",
       "    </tr>\n",
       "  </tbody>\n",
       "</table>\n",
       "<p>935 rows × 15 columns</p>\n",
       "</div>"
      ],
      "text/plain": [
       "          contractSymbol  strike    bid    ask  change  percentChange  \\\n",
       "0    AAPL240607C00100000   100.0  92.55  93.75     0.0            0.0   \n",
       "1    AAPL240607C00110000   110.0  82.35  83.45     0.0            0.0   \n",
       "2    AAPL240607C00120000   120.0  72.30  73.30     0.0            0.0   \n",
       "3    AAPL240607C00125000   125.0  67.30  68.50     0.0            0.0   \n",
       "4    AAPL240607C00130000   130.0  62.40  63.80     0.0            0.0   \n",
       "..                   ...     ...    ...    ...     ...            ...   \n",
       "930  AAPL261218C00310000   310.0   5.65   6.30     0.0            0.0   \n",
       "931  AAPL261218C00320000   320.0   4.35   5.55     0.0            0.0   \n",
       "932  AAPL261218C00330000   330.0   3.80   4.75     0.0            0.0   \n",
       "933  AAPL261218C00340000   340.0   3.20   3.95     0.0            0.0   \n",
       "934  AAPL261218C00350000   350.0   2.85   3.35     0.0            0.0   \n",
       "\n",
       "     impliedVolatility  inTheMoney  bsmValuation      diff         delta  \\\n",
       "0             0.000010        True  9.422665e+01  0.476653  1.000000e+00   \n",
       "1             0.000010        True  8.423032e+01  0.780318  1.000000e+00   \n",
       "2             0.000010        True  7.423398e+01  0.933983  1.000000e+00   \n",
       "3             0.000010        True  6.923582e+01  0.735815  1.000000e+00   \n",
       "4             0.000010        True  6.423765e+01  0.437648  1.000000e+00   \n",
       "..                 ...         ...           ...       ...           ...   \n",
       "930           0.257362       False  3.452379e-09 -6.300000  1.863200e-09   \n",
       "931           0.258476       False  1.117872e-10 -5.550000  6.521696e-11   \n",
       "932           0.257423       False  3.103404e-12 -4.750000  1.945375e-12   \n",
       "933           0.254646       False  7.618329e-14 -3.950000  5.027993e-14   \n",
       "934           0.253395       False  8.467255e-16 -3.350000  1.142868e-15   \n",
       "\n",
       "            gamma          vega           rho         theta  \n",
       "0    4.281862e-29  2.040447e-26  8.666700e+02 -8.210542e-01  \n",
       "1    6.065031e-22  2.890185e-19  9.533370e+02 -9.031596e-01  \n",
       "2    2.231559e-16  1.063410e-13  1.040004e+03 -9.852650e-01  \n",
       "3    4.396783e-14  2.095210e-11  1.083338e+03 -1.026318e+00  \n",
       "4    4.540845e-12  2.163861e-09  1.126671e+03 -1.067370e+00  \n",
       "..            ...           ...           ...           ...  \n",
       "930  9.715365e-10  4.629688e-07  3.478316e-06 -2.378130e-06  \n",
       "931  3.691797e-11  1.759261e-08  1.218382e-07 -8.766517e-08  \n",
       "932  1.185680e-12  5.650150e-10  3.636551e-09 -2.743213e-09  \n",
       "933  3.276757e-14  1.561481e-11  9.403837e-11 -7.412208e-11  \n",
       "934  7.917532e-16  3.772962e-13  2.138452e-12 -1.756012e-12  \n",
       "\n",
       "[935 rows x 15 columns]"
      ]
     },
     "execution_count": 69,
     "metadata": {},
     "output_type": "execute_result"
    }
   ],
   "source": [
    "combined"
   ]
  },
  {
   "cell_type": "code",
   "execution_count": 70,
   "id": "73227d9b",
   "metadata": {},
   "outputs": [],
   "source": [
    "combined.to_csv('combined_data.csv', index=False)"
   ]
  },
  {
   "cell_type": "code",
   "execution_count": null,
   "id": "b3c2f91e",
   "metadata": {},
   "outputs": [],
   "source": []
  }
 ],
 "metadata": {
  "kernelspec": {
   "display_name": "Python 3 (ipykernel)",
   "language": "python",
   "name": "python3"
  },
  "language_info": {
   "codemirror_mode": {
    "name": "ipython",
    "version": 3
   },
   "file_extension": ".py",
   "mimetype": "text/x-python",
   "name": "python",
   "nbconvert_exporter": "python",
   "pygments_lexer": "ipython3",
   "version": "3.11.7"
  }
 },
 "nbformat": 4,
 "nbformat_minor": 5
}
